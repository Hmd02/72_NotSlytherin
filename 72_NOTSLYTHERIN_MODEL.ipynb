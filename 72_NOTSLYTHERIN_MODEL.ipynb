{
  "nbformat": 4,
  "nbformat_minor": 0,
  "metadata": {
    "colab": {
      "provenance": [],
      "collapsed_sections": [],
      "include_colab_link": true
    },
    "kernelspec": {
      "name": "python3",
      "display_name": "Python 3"
    },
    "language_info": {
      "name": "python"
    }
  },
  "cells": [
    {
      "cell_type": "markdown",
      "metadata": {
        "id": "view-in-github",
        "colab_type": "text"
      },
      "source": [
        "<a href=\"https://colab.research.google.com/github/Hmd02/72_NotSlytherin_2/blob/main/72_NOTSLYTHERIN_MODEL.ipynb\" target=\"_parent\"><img src=\"https://colab.research.google.com/assets/colab-badge.svg\" alt=\"Open In Colab\"/></a>"
      ]
    },
    {
      "cell_type": "code",
      "execution_count": 158,
      "metadata": {
        "id": "inSDxUzbIJWM"
      },
      "outputs": [],
      "source": [
        "from keras.callbacks import ModelCheckpoint\n",
        "from keras.models import Sequential\n",
        "from keras.layers import Dense, Activation, Flatten\n",
        "from sklearn.model_selection import train_test_split\n",
        "from sklearn.ensemble import RandomForestRegressor\n",
        "from sklearn.metrics import mean_absolute_error \n",
        "from matplotlib import pyplot as plt\n",
        "import seaborn as sb\n",
        "import matplotlib.pyplot as plt\n",
        "import pandas as pd\n",
        "import numpy as np\n",
        "import warnings \n",
        "warnings.filterwarnings('ignore')\n",
        "warnings.filterwarnings('ignore', category=DeprecationWarning)\n",
        "from xgboost import XGBRegressor\n",
        "import tensorflow as tf"
      ]
    },
    {
      "cell_type": "code",
      "source": [],
      "metadata": {
        "id": "gSoTtxsaLfNf"
      },
      "execution_count": 158,
      "outputs": []
    },
    {
      "cell_type": "code",
      "source": [
        "def createTrain():\n",
        "  merged = pd.read_csv('/content/merged - merged.csv')\n",
        "  merged.drop(['Unnamed: 0','ANNUAL','Jul-Oct', 'Nov-Mar', 'Apr-Jun', 'Total_Avg','Crop_Year'],axis=1,inplace=True)\n",
        "  merged.drop(['District_Name'],axis=1,inplace=True)\n",
        "  # print(merged.loc[merged[\"Crop\"]==\"Rice\",:])\n",
        "  # print(merged.loc[merged[\"Crop\"]==\"Wheat\",:])\n",
        "  # print(merged.loc[merged[\"Crop\"]==\"Jowar\",:])\n",
        "  # print(merged.loc[merged[\"Crop\"]==\"Bajra\",:])\n",
        "  # print(merged.loc[merged[\"Crop\"]==\"Coconut\",:])\n",
        "  # df=merged.copy()\n",
        "  # df=merged.loc[(merged[\"Crop\"]==\"Rice\")|(merged[\"Crop\"]==\"Wheat\")|(merged[\"Crop\"]==\"Barley\")|(merged[\"Crop\"]==\"Jowar\"),:]\n",
        "  # print(df.Production.count())\n",
        "  train = merged.loc[:146000, :]\n",
        "  test = merged.iloc[146000:, :]\n",
        "  train.dropna(subset=['Production'],inplace=True,axis=0)\n",
        "  # df=merged.loc[(merged[\"Crop\"]==\"Rice\")|(merged[\"Crop\"]==\"Wheat\")|(merged[\"Crop\"]==\"Barley\")|(merged[\"Crop\"]==\"Jowar\"),:]\n",
        "  # print(df.count())\n",
        "  test.drop('Production', axis=1,inplace=True)\n",
        "  train.to_csv('train.csv')\n",
        "  test.to_csv('test.csv')"
      ],
      "metadata": {
        "id": "gikWuPBVl2Q8"
      },
      "execution_count": 159,
      "outputs": []
    },
    {
      "cell_type": "markdown",
      "source": [],
      "metadata": {
        "id": "3wOqYoFkcR1I"
      }
    },
    {
      "cell_type": "code",
      "source": [
        "createTrain()"
      ],
      "metadata": {
        "id": "9clIrI5gl8GI"
      },
      "execution_count": 160,
      "outputs": []
    },
    {
      "cell_type": "code",
      "source": [
        "def get_data():\n",
        "    #get train data\n",
        "    train_data_path ='/content/train.csv'\n",
        "    train = pd.read_csv(train_data_path)\n",
        "    \n",
        "    #get test data\n",
        "    test_data_path ='/content/test.csv'\n",
        "    test = pd.read_csv(test_data_path)\n",
        "    \n",
        "    return train , test\n",
        "\n",
        "def get_combined_data():\n",
        "  #reading train data\n",
        "  train , test = get_data()\n",
        "  \n",
        "  \n",
        "  target = train.Production\n",
        "  # print(train.isnull().sum())\n",
        "  # print(target.isnull().sum())\n",
        "  train.drop(['Production'],axis = 1 , inplace = True)\n",
        "  # print(train.count())\n",
        "\n",
        "  combined = train.append(test)\n",
        "  combined.reset_index(inplace=True)\n",
        "  combined.drop(combined.columns[combined.columns.str.contains('unnamed',case = False)],axis = 1, inplace = True)\n",
        "  combined.drop('index', axis=1, inplace = True)\n",
        "  return combined, target\n",
        "\n",
        "#Load train and test data into pandas DataFrames\n",
        "train_data, test_data = get_data()\n",
        "\n",
        "#Combine train and test data to process them together\n",
        "combined, target = get_combined_data()"
      ],
      "metadata": {
        "id": "L9CHr4ggITtX"
      },
      "execution_count": 161,
      "outputs": []
    },
    {
      "cell_type": "code",
      "source": [
        "# def createTrain():\n",
        "#   merged = pd.read_csv('/content/merged.csv')\n",
        "#   train = merged.loc[:146000, :]\n",
        "#   test = merged.iloc[146000:, :]\n",
        "#   test.drop('Production', axis=1,inplace=True)\n",
        "#   print(test['Total_Avg'])\n",
        "#   train.to_csv('train.csv')\n",
        "#   test.to_csv('test.csv')"
      ],
      "metadata": {
        "id": "-FMJRnQ5Kebg"
      },
      "execution_count": 162,
      "outputs": []
    },
    {
      "cell_type": "code",
      "source": [
        "# createTrain()"
      ],
      "metadata": {
        "id": "NiPUTVscMETn"
      },
      "execution_count": 163,
      "outputs": []
    },
    {
      "cell_type": "code",
      "source": [
        "def split_combined():\n",
        "    global combined\n",
        "    train = combined[:144691]\n",
        "    test = combined[144691:]\n",
        "\n",
        "    return train , test"
      ],
      "metadata": {
        "id": "ly9iRvMTJp4x"
      },
      "execution_count": 164,
      "outputs": []
    },
    {
      "cell_type": "code",
      "source": [],
      "metadata": {
        "id": "B4BnIXkdyk0o"
      },
      "execution_count": 164,
      "outputs": []
    },
    {
      "cell_type": "code",
      "source": [
        "combined.columns"
      ],
      "metadata": {
        "colab": {
          "base_uri": "https://localhost:8080/"
        },
        "id": "uY_e3djwNYqE",
        "outputId": "d4dd607d-935b-468a-9416-f6b77f411f01"
      },
      "execution_count": 165,
      "outputs": [
        {
          "output_type": "execute_result",
          "data": {
            "text/plain": [
              "Index(['State_Name', 'Season', 'Crop', 'Area', 'Rainfall'], dtype='object')"
            ]
          },
          "metadata": {},
          "execution_count": 165
        }
      ]
    },
    {
      "cell_type": "code",
      "source": [
        "def oneHotEncode(df,colNames):\n",
        "    for col in colNames:\n",
        "        if( df[col].dtype == np.dtype('object')):\n",
        "            dummies = pd.get_dummies(df[col],prefix=col)\n",
        "            df = pd.concat([df,dummies],axis=1)\n",
        "\n",
        "            #drop the encoded column\n",
        "            df.drop([col],axis = 1 , inplace=True)\n",
        "    return df"
      ],
      "metadata": {
        "id": "JOB88ig1QfG0"
      },
      "execution_count": 166,
      "outputs": []
    },
    {
      "cell_type": "code",
      "source": [
        "print('There were {} columns before encoding categorical features'.format(combined.shape[1]))\n",
        "combined = oneHotEncode(combined, combined.columns)\n",
        "print('There are {} columns after encoding categorical features'.format(combined.shape[1]))"
      ],
      "metadata": {
        "colab": {
          "base_uri": "https://localhost:8080/"
        },
        "id": "_01W9yc0db_i",
        "outputId": "55cfdad3-328e-448a-b854-bc2586d979e5"
      },
      "execution_count": 167,
      "outputs": [
        {
          "output_type": "stream",
          "name": "stdout",
          "text": [
            "There were 5 columns before encoding categorical features\n",
            "There are 153 columns after encoding categorical features\n"
          ]
        }
      ]
    },
    {
      "cell_type": "code",
      "source": [
        "def get_cols_with_no_nans(df,col_type):\n",
        "    '''\n",
        "    Arguments :\n",
        "    df : The dataframe to process\n",
        "    col_type : \n",
        "          num : to only get numerical columns with no nans\n",
        "          no_num : to only get nun-numerical columns with no nans\n",
        "          all : to get any columns with no nans    \n",
        "    '''\n",
        "    if (col_type == 'num'):\n",
        "        predictors = df.select_dtypes(exclude=['object'])\n",
        "    elif (col_type == 'no_num'):\n",
        "        predictors = df.select_dtypes(include=['object'])\n",
        "    elif (col_type == 'all'):\n",
        "        predictors = df\n",
        "    else :\n",
        "        print('Error : choose a type (num, no_num, all)')\n",
        "        return 0\n",
        "    cols_with_no_nans = []\n",
        "    for col in predictors.columns:\n",
        "        if not df[col].isnull().any():\n",
        "            cols_with_no_nans.append(col)\n",
        "    return cols_with_no_nans"
      ],
      "metadata": {
        "id": "QmUMlOJiX7nm"
      },
      "execution_count": 168,
      "outputs": []
    },
    {
      "cell_type": "code",
      "source": [
        "num_cols = get_cols_with_no_nans(combined , 'num')\n",
        "cat_cols = get_cols_with_no_nans(combined , 'no_num')"
      ],
      "metadata": {
        "id": "l3nBGNPTX_iT"
      },
      "execution_count": 169,
      "outputs": []
    },
    {
      "cell_type": "code",
      "source": [
        "print ('Number of numerical columns with no nan values :',len(num_cols))\n",
        "print ('Number of nun-numerical columns with no nan values :',len(cat_cols))"
      ],
      "metadata": {
        "colab": {
          "base_uri": "https://localhost:8080/"
        },
        "id": "tQv9YNySYD_s",
        "outputId": "967bece2-16ed-4697-e9b8-f88f14e8f488"
      },
      "execution_count": 170,
      "outputs": [
        {
          "output_type": "stream",
          "name": "stdout",
          "text": [
            "Number of numerical columns with no nan values : 153\n",
            "Number of nun-numerical columns with no nan values : 0\n"
          ]
        }
      ]
    },
    {
      "cell_type": "code",
      "source": [
        "# print('There were {} columns before encoding categorical features'.format(combined.shape[1]))\n",
        "# combined = oneHotEncode(combined, combined.columns)\n",
        "# print('There are {} columns after encoding categorical features'.format(combined.shape[1]))"
      ],
      "metadata": {
        "id": "P9sk5jk9RVkA"
      },
      "execution_count": 171,
      "outputs": []
    },
    {
      "cell_type": "code",
      "source": [
        "#train.loc[:146000, 'Total_Avg']"
      ],
      "metadata": {
        "id": "QdzB4YX5Yf13"
      },
      "execution_count": 172,
      "outputs": []
    },
    {
      "cell_type": "code",
      "source": [
        "train, test = split_combined()"
      ],
      "metadata": {
        "id": "XTEr5pBVTLtS"
      },
      "execution_count": 173,
      "outputs": []
    },
    {
      "cell_type": "code",
      "source": [
        "NN_model = Sequential()"
      ],
      "metadata": {
        "id": "Lg_aVDG5SdHB"
      },
      "execution_count": 174,
      "outputs": []
    },
    {
      "cell_type": "code",
      "source": [
        "print(train.shape[1])"
      ],
      "metadata": {
        "colab": {
          "base_uri": "https://localhost:8080/"
        },
        "id": "dk12T7uwpP1C",
        "outputId": "1110ca20-bd3d-489a-cdba-25ebde872bb4"
      },
      "execution_count": 175,
      "outputs": [
        {
          "output_type": "stream",
          "name": "stdout",
          "text": [
            "153\n"
          ]
        }
      ]
    },
    {
      "cell_type": "code",
      "source": [
        "NN_model.add(Dense(153, kernel_initializer='normal',input_dim = train.shape[1], activation='relu'))"
      ],
      "metadata": {
        "id": "Jd2HNCMtSrkz"
      },
      "execution_count": 176,
      "outputs": []
    },
    {
      "cell_type": "code",
      "source": [
        "NN_model.add(Dense(256, kernel_initializer='normal',activation='relu'))\n",
        "NN_model.add(Dense(256, kernel_initializer='normal',activation='relu'))\n",
        "NN_model.add(Dense(256, kernel_initializer='normal',activation='relu'))"
      ],
      "metadata": {
        "id": "qXalvvcTTQZy"
      },
      "execution_count": 177,
      "outputs": []
    },
    {
      "cell_type": "code",
      "source": [
        "NN_model.add(Dense(1, kernel_initializer='normal',activation='softmax'))"
      ],
      "metadata": {
        "id": "ZTOPef3mTU02"
      },
      "execution_count": 178,
      "outputs": []
    },
    {
      "cell_type": "code",
      "source": [
        "# sgd = tf.keras.optimizers.SGD(learning_rate=0.011)"
      ],
      "metadata": {
        "id": "vZjHpkpmlgNy"
      },
      "execution_count": 179,
      "outputs": []
    },
    {
      "cell_type": "code",
      "source": [
        "for col in combined.columns:\n",
        "  if combined[col].isnull().sum()<0:\n",
        "    print(col)"
      ],
      "metadata": {
        "id": "DwEmHdqRoIBZ"
      },
      "execution_count": 180,
      "outputs": []
    },
    {
      "cell_type": "code",
      "source": [
        "NN_model.compile(loss='mean_absolute_error', optimizer='adam', metrics=['mean_absolute_error'])\n",
        "NN_model.summary()"
      ],
      "metadata": {
        "colab": {
          "base_uri": "https://localhost:8080/"
        },
        "id": "zQ-YPyD_TYHA",
        "outputId": "e8fe479b-ea3d-46fc-8250-7e8ff1c2730a"
      },
      "execution_count": 181,
      "outputs": [
        {
          "output_type": "stream",
          "name": "stdout",
          "text": [
            "Model: \"sequential_2\"\n",
            "_________________________________________________________________\n",
            " Layer (type)                Output Shape              Param #   \n",
            "=================================================================\n",
            " dense_20 (Dense)            (None, 153)               23562     \n",
            "                                                                 \n",
            " dense_21 (Dense)            (None, 256)               39424     \n",
            "                                                                 \n",
            " dense_22 (Dense)            (None, 256)               65792     \n",
            "                                                                 \n",
            " dense_23 (Dense)            (None, 256)               65792     \n",
            "                                                                 \n",
            " dense_24 (Dense)            (None, 1)                 257       \n",
            "                                                                 \n",
            "=================================================================\n",
            "Total params: 194,827\n",
            "Trainable params: 194,827\n",
            "Non-trainable params: 0\n",
            "_________________________________________________________________\n"
          ]
        }
      ]
    },
    {
      "cell_type": "code",
      "source": [
        "checkpoint_name = 'Weights-{epoch:03d}--{val_loss:.5f}.hdf5' \n",
        "checkpoint = ModelCheckpoint(checkpoint_name, monitor='val_loss', verbose = 1, save_best_only = True, mode ='auto')\n",
        "callbacks_list = [checkpoint]"
      ],
      "metadata": {
        "id": "nWdPgQWWT0vJ"
      },
      "execution_count": 182,
      "outputs": []
    },
    {
      "cell_type": "code",
      "source": [
        "target.count()"
      ],
      "metadata": {
        "colab": {
          "base_uri": "https://localhost:8080/"
        },
        "id": "9kaLGdcqp_jU",
        "outputId": "ea2284b2-544e-472f-d48a-62d2ebf2a2ca"
      },
      "execution_count": 183,
      "outputs": [
        {
          "output_type": "execute_result",
          "data": {
            "text/plain": [
              "144691"
            ]
          },
          "metadata": {},
          "execution_count": 183
        }
      ]
    },
    {
      "cell_type": "code",
      "source": [
        "train.count()\n"
      ],
      "metadata": {
        "colab": {
          "base_uri": "https://localhost:8080/"
        },
        "id": "-pd2Ma_huevC",
        "outputId": "955e0cdb-4fd5-4695-dcc9-67c24ea11880"
      },
      "execution_count": 184,
      "outputs": [
        {
          "output_type": "execute_result",
          "data": {
            "text/plain": [
              "Area                                      144691\n",
              "Rainfall                                  144691\n",
              "State_Name_Andaman and Nicobar Islands    144691\n",
              "State_Name_Andhra Pradesh                 144691\n",
              "State_Name_Arunachal Pradesh              144691\n",
              "                                           ...  \n",
              "Crop_Wheat                                144691\n",
              "Crop_Yam                                  144691\n",
              "Crop_other fibres                         144691\n",
              "Crop_other misc. pulses                   144691\n",
              "Crop_other oilseeds                       144691\n",
              "Length: 153, dtype: int64"
            ]
          },
          "metadata": {},
          "execution_count": 184
        }
      ]
    },
    {
      "cell_type": "code",
      "source": [
        "checkpoint_name = 'Weights-{epoch:03d}--{val_loss:.5f}.hdf5' \n",
        "checkpoint = ModelCheckpoint(checkpoint_name, monitor='val_loss', verbose = 1, save_best_only = True, mode ='auto')\n",
        "callbacks_list = [checkpoint]"
      ],
      "metadata": {
        "id": "kXg4V62F8OLK"
      },
      "execution_count": 185,
      "outputs": []
    },
    {
      "cell_type": "code",
      "source": [
        "NN_model.fit(train, target, epochs=10, batch_size=256, validation_split = 0.2, callbacks=callbacks_list)"
      ],
      "metadata": {
        "colab": {
          "base_uri": "https://localhost:8080/"
        },
        "id": "BjA5bUYF8aKR",
        "outputId": "95e91fcb-2f4c-4326-9b9c-b52d402dafd2"
      },
      "execution_count": 186,
      "outputs": [
        {
          "output_type": "stream",
          "name": "stdout",
          "text": [
            "Epoch 1/10\n",
            "449/453 [============================>.] - ETA: 0s - loss: 1046861.2500 - mean_absolute_error: 1046861.2500\n",
            "Epoch 1: val_loss improved from inf to 45858.72266, saving model to Weights-001--45858.72266.hdf5\n",
            "453/453 [==============================] - 6s 13ms/step - loss: 1039787.1875 - mean_absolute_error: 1039787.1875 - val_loss: 45858.7227 - val_mean_absolute_error: 45858.7227\n",
            "Epoch 2/10\n",
            "452/453 [============================>.] - ETA: 0s - loss: 1040141.2500 - mean_absolute_error: 1040141.2500\n",
            "Epoch 2: val_loss did not improve from 45858.72266\n",
            "453/453 [==============================] - 6s 13ms/step - loss: 1039787.1250 - mean_absolute_error: 1039787.1250 - val_loss: 45858.7227 - val_mean_absolute_error: 45858.7227\n",
            "Epoch 3/10\n",
            "449/453 [============================>.] - ETA: 0s - loss: 1040906.5000 - mean_absolute_error: 1040906.5000\n",
            "Epoch 3: val_loss did not improve from 45858.72266\n",
            "453/453 [==============================] - 6s 13ms/step - loss: 1039787.3125 - mean_absolute_error: 1039787.3125 - val_loss: 45858.7227 - val_mean_absolute_error: 45858.7227\n",
            "Epoch 4/10\n",
            "449/453 [============================>.] - ETA: 0s - loss: 1043376.8125 - mean_absolute_error: 1043376.8125\n",
            "Epoch 4: val_loss did not improve from 45858.72266\n",
            "453/453 [==============================] - 6s 13ms/step - loss: 1039787.1250 - mean_absolute_error: 1039787.1250 - val_loss: 45858.7227 - val_mean_absolute_error: 45858.7227\n",
            "Epoch 5/10\n",
            "451/453 [============================>.] - ETA: 0s - loss: 1042345.7500 - mean_absolute_error: 1042345.7500\n",
            "Epoch 5: val_loss did not improve from 45858.72266\n",
            "453/453 [==============================] - 6s 13ms/step - loss: 1039786.6875 - mean_absolute_error: 1039786.6875 - val_loss: 45858.7227 - val_mean_absolute_error: 45858.7227\n",
            "Epoch 6/10\n",
            "452/453 [============================>.] - ETA: 0s - loss: 1040138.3125 - mean_absolute_error: 1040138.3125\n",
            "Epoch 6: val_loss did not improve from 45858.72266\n",
            "453/453 [==============================] - 6s 13ms/step - loss: 1039786.9375 - mean_absolute_error: 1039786.9375 - val_loss: 45858.7227 - val_mean_absolute_error: 45858.7227\n",
            "Epoch 7/10\n",
            "448/453 [============================>.] - ETA: 0s - loss: 1047673.3125 - mean_absolute_error: 1047673.3125\n",
            "Epoch 7: val_loss did not improve from 45858.72266\n",
            "453/453 [==============================] - 6s 12ms/step - loss: 1039787.0625 - mean_absolute_error: 1039787.0625 - val_loss: 45858.7227 - val_mean_absolute_error: 45858.7227\n",
            "Epoch 8/10\n",
            "449/453 [============================>.] - ETA: 0s - loss: 1027620.0000 - mean_absolute_error: 1027620.0000\n",
            "Epoch 8: val_loss did not improve from 45858.72266\n",
            "453/453 [==============================] - 6s 12ms/step - loss: 1039786.3125 - mean_absolute_error: 1039786.3125 - val_loss: 45858.7227 - val_mean_absolute_error: 45858.7227\n",
            "Epoch 9/10\n",
            "451/453 [============================>.] - ETA: 0s - loss: 1042396.2500 - mean_absolute_error: 1042396.2500\n",
            "Epoch 9: val_loss did not improve from 45858.72266\n",
            "453/453 [==============================] - 6s 13ms/step - loss: 1039787.1250 - mean_absolute_error: 1039787.1250 - val_loss: 45858.7227 - val_mean_absolute_error: 45858.7227\n",
            "Epoch 10/10\n",
            "452/453 [============================>.] - ETA: 0s - loss: 1040135.6875 - mean_absolute_error: 1040135.6875\n",
            "Epoch 10: val_loss did not improve from 45858.72266\n",
            "453/453 [==============================] - 6s 13ms/step - loss: 1039787.6250 - mean_absolute_error: 1039787.6250 - val_loss: 45858.7227 - val_mean_absolute_error: 45858.7227\n"
          ]
        },
        {
          "output_type": "execute_result",
          "data": {
            "text/plain": [
              "<keras.callbacks.History at 0x7f63c45e2e10>"
            ]
          },
          "metadata": {},
          "execution_count": 186
        }
      ]
    },
    {
      "cell_type": "code",
      "source": [
        "\n",
        "from sklearn.preprocessing import MinMaxScaler\n",
        "import numpy as np\n",
        "  \n",
        "# copy the data\n",
        "df_sklearn = data.copy()\n",
        "  \n",
        "# apply normalization techniques\n",
        "column = 'Area'\n",
        "tar='Production'\n",
        "rainfall='Rainfall'\n",
        "df_sklearn[column] = MinMaxScaler().fit_transform(np.array(df_sklearn[column]).reshape(-1,1))\n",
        "df_sklearn[tar] = MinMaxScaler().fit_transform(np.array(df_sklearn[tar]).reshape(-1,1))\n",
        "df_sklearn[rainfall] = MinMaxScaler().fit_transform(np.array(df_sklearn[rainfall]).reshape(-1,1))\n",
        "  \n",
        "# view normalized data  \n",
        "df_sklearn.corr()"
      ],
      "metadata": {
        "colab": {
          "base_uri": "https://localhost:8080/",
          "height": 175
        },
        "id": "dZwy1t4IYNG5",
        "outputId": "4109e236-5e3e-41bb-edd8-5566f2604c5f"
      },
      "execution_count": 187,
      "outputs": [
        {
          "output_type": "execute_result",
          "data": {
            "text/plain": [
              "            Crop_Year      Area  Production  Rainfall\n",
              "Crop_Year    1.000000 -0.025469    0.006935  0.055788\n",
              "Area        -0.025469  1.000000    0.041603 -0.034916\n",
              "Production   0.006935  0.041603    1.000000 -0.001535\n",
              "Rainfall     0.055788 -0.034916   -0.001535  1.000000"
            ],
            "text/html": [
              "\n",
              "  <div id=\"df-bc4e6ec6-64da-4642-9c9f-4f2ed6c853cc\">\n",
              "    <div class=\"colab-df-container\">\n",
              "      <div>\n",
              "<style scoped>\n",
              "    .dataframe tbody tr th:only-of-type {\n",
              "        vertical-align: middle;\n",
              "    }\n",
              "\n",
              "    .dataframe tbody tr th {\n",
              "        vertical-align: top;\n",
              "    }\n",
              "\n",
              "    .dataframe thead th {\n",
              "        text-align: right;\n",
              "    }\n",
              "</style>\n",
              "<table border=\"1\" class=\"dataframe\">\n",
              "  <thead>\n",
              "    <tr style=\"text-align: right;\">\n",
              "      <th></th>\n",
              "      <th>Crop_Year</th>\n",
              "      <th>Area</th>\n",
              "      <th>Production</th>\n",
              "      <th>Rainfall</th>\n",
              "    </tr>\n",
              "  </thead>\n",
              "  <tbody>\n",
              "    <tr>\n",
              "      <th>Crop_Year</th>\n",
              "      <td>1.000000</td>\n",
              "      <td>-0.025469</td>\n",
              "      <td>0.006935</td>\n",
              "      <td>0.055788</td>\n",
              "    </tr>\n",
              "    <tr>\n",
              "      <th>Area</th>\n",
              "      <td>-0.025469</td>\n",
              "      <td>1.000000</td>\n",
              "      <td>0.041603</td>\n",
              "      <td>-0.034916</td>\n",
              "    </tr>\n",
              "    <tr>\n",
              "      <th>Production</th>\n",
              "      <td>0.006935</td>\n",
              "      <td>0.041603</td>\n",
              "      <td>1.000000</td>\n",
              "      <td>-0.001535</td>\n",
              "    </tr>\n",
              "    <tr>\n",
              "      <th>Rainfall</th>\n",
              "      <td>0.055788</td>\n",
              "      <td>-0.034916</td>\n",
              "      <td>-0.001535</td>\n",
              "      <td>1.000000</td>\n",
              "    </tr>\n",
              "  </tbody>\n",
              "</table>\n",
              "</div>\n",
              "      <button class=\"colab-df-convert\" onclick=\"convertToInteractive('df-bc4e6ec6-64da-4642-9c9f-4f2ed6c853cc')\"\n",
              "              title=\"Convert this dataframe to an interactive table.\"\n",
              "              style=\"display:none;\">\n",
              "        \n",
              "  <svg xmlns=\"http://www.w3.org/2000/svg\" height=\"24px\"viewBox=\"0 0 24 24\"\n",
              "       width=\"24px\">\n",
              "    <path d=\"M0 0h24v24H0V0z\" fill=\"none\"/>\n",
              "    <path d=\"M18.56 5.44l.94 2.06.94-2.06 2.06-.94-2.06-.94-.94-2.06-.94 2.06-2.06.94zm-11 1L8.5 8.5l.94-2.06 2.06-.94-2.06-.94L8.5 2.5l-.94 2.06-2.06.94zm10 10l.94 2.06.94-2.06 2.06-.94-2.06-.94-.94-2.06-.94 2.06-2.06.94z\"/><path d=\"M17.41 7.96l-1.37-1.37c-.4-.4-.92-.59-1.43-.59-.52 0-1.04.2-1.43.59L10.3 9.45l-7.72 7.72c-.78.78-.78 2.05 0 2.83L4 21.41c.39.39.9.59 1.41.59.51 0 1.02-.2 1.41-.59l7.78-7.78 2.81-2.81c.8-.78.8-2.07 0-2.86zM5.41 20L4 18.59l7.72-7.72 1.47 1.35L5.41 20z\"/>\n",
              "  </svg>\n",
              "      </button>\n",
              "      \n",
              "  <style>\n",
              "    .colab-df-container {\n",
              "      display:flex;\n",
              "      flex-wrap:wrap;\n",
              "      gap: 12px;\n",
              "    }\n",
              "\n",
              "    .colab-df-convert {\n",
              "      background-color: #E8F0FE;\n",
              "      border: none;\n",
              "      border-radius: 50%;\n",
              "      cursor: pointer;\n",
              "      display: none;\n",
              "      fill: #1967D2;\n",
              "      height: 32px;\n",
              "      padding: 0 0 0 0;\n",
              "      width: 32px;\n",
              "    }\n",
              "\n",
              "    .colab-df-convert:hover {\n",
              "      background-color: #E2EBFA;\n",
              "      box-shadow: 0px 1px 2px rgba(60, 64, 67, 0.3), 0px 1px 3px 1px rgba(60, 64, 67, 0.15);\n",
              "      fill: #174EA6;\n",
              "    }\n",
              "\n",
              "    [theme=dark] .colab-df-convert {\n",
              "      background-color: #3B4455;\n",
              "      fill: #D2E3FC;\n",
              "    }\n",
              "\n",
              "    [theme=dark] .colab-df-convert:hover {\n",
              "      background-color: #434B5C;\n",
              "      box-shadow: 0px 1px 3px 1px rgba(0, 0, 0, 0.15);\n",
              "      filter: drop-shadow(0px 1px 2px rgba(0, 0, 0, 0.3));\n",
              "      fill: #FFFFFF;\n",
              "    }\n",
              "  </style>\n",
              "\n",
              "      <script>\n",
              "        const buttonEl =\n",
              "          document.querySelector('#df-bc4e6ec6-64da-4642-9c9f-4f2ed6c853cc button.colab-df-convert');\n",
              "        buttonEl.style.display =\n",
              "          google.colab.kernel.accessAllowed ? 'block' : 'none';\n",
              "\n",
              "        async function convertToInteractive(key) {\n",
              "          const element = document.querySelector('#df-bc4e6ec6-64da-4642-9c9f-4f2ed6c853cc');\n",
              "          const dataTable =\n",
              "            await google.colab.kernel.invokeFunction('convertToInteractive',\n",
              "                                                     [key], {});\n",
              "          if (!dataTable) return;\n",
              "\n",
              "          const docLinkHtml = 'Like what you see? Visit the ' +\n",
              "            '<a target=\"_blank\" href=https://colab.research.google.com/notebooks/data_table.ipynb>data table notebook</a>'\n",
              "            + ' to learn more about interactive tables.';\n",
              "          element.innerHTML = '';\n",
              "          dataTable['output_type'] = 'display_data';\n",
              "          await google.colab.output.renderOutput(dataTable, element);\n",
              "          const docLink = document.createElement('div');\n",
              "          docLink.innerHTML = docLinkHtml;\n",
              "          element.appendChild(docLink);\n",
              "        }\n",
              "      </script>\n",
              "    </div>\n",
              "  </div>\n",
              "  "
            ]
          },
          "metadata": {},
          "execution_count": 187
        }
      ]
    },
    {
      "cell_type": "code",
      "source": [
        "# Load wights file of the best model :\n",
        "wights_file = '/content/Weights-001--45858.72266.hdf5' # choose the best checkpoint \n",
        "NN_model.load_weights(wights_file) # load it\n",
        "NN_model.compile(loss='mean_absolute_error', optimizer='adam', metrics=['mean_absolute_error'])"
      ],
      "metadata": {
        "id": "piepCNEn8eSD"
      },
      "execution_count": 188,
      "outputs": []
    },
    {
      "cell_type": "code",
      "source": [
        "predictions = NN_model.predict(test)"
      ],
      "metadata": {
        "id": "Z4bQwvBl4Q6R"
      },
      "execution_count": 195,
      "outputs": []
    },
    {
      "cell_type": "code",
      "source": [
        "print(predictions[100][0])"
      ],
      "metadata": {
        "id": "cz6ARNhv6ULG",
        "colab": {
          "base_uri": "https://localhost:8080/"
        },
        "outputId": "e866312b-f835-4e08-a52b-daa0365afe74"
      },
      "execution_count": 190,
      "outputs": [
        {
          "output_type": "stream",
          "name": "stdout",
          "text": [
            "1.0\n"
          ]
        }
      ]
    },
    {
      "cell_type": "code",
      "source": [
        "data=pd.read_csv(\"/content/merged - merged.csv\")"
      ],
      "metadata": {
        "id": "Y_YIp3VlLg7R"
      },
      "execution_count": 191,
      "outputs": []
    },
    {
      "cell_type": "code",
      "source": [
        "print(data.Production.isnull().sum())"
      ],
      "metadata": {
        "colab": {
          "base_uri": "https://localhost:8080/"
        },
        "id": "A49KgcM-SpGs",
        "outputId": "f7cf5e1c-8196-4010-e363-cbe6cca768fc"
      },
      "execution_count": 192,
      "outputs": [
        {
          "output_type": "stream",
          "name": "stdout",
          "text": [
            "2258\n"
          ]
        }
      ]
    },
    {
      "cell_type": "code",
      "source": [
        "data.drop(['Unnamed: 0','ANNUAL','Jul-Oct', 'Nov-Mar', 'Apr-Jun', 'Total_Avg'],axis=1,inplace=True)\n",
        "data.drop(['District_Name'],axis=1,inplace=True)\n",
        "data.to_csv(\"train.csv\")"
      ],
      "metadata": {
        "id": "Ndz7eSBmSwvc"
      },
      "execution_count": 193,
      "outputs": []
    },
    {
      "cell_type": "code",
      "source": [
        "print(data)"
      ],
      "metadata": {
        "colab": {
          "base_uri": "https://localhost:8080/"
        },
        "id": "KT6haao9Te6U",
        "outputId": "fb9dc520-59e9-4d5c-bc63-90432d879345"
      },
      "execution_count": 194,
      "outputs": [
        {
          "output_type": "stream",
          "name": "stdout",
          "text": [
            "                         State_Name  Crop_Year      Season  \\\n",
            "0       Andaman and Nicobar Islands       2000      Kharif   \n",
            "1       Andaman and Nicobar Islands       2000      Kharif   \n",
            "2       Andaman and Nicobar Islands       2000      Kharif   \n",
            "3       Andaman and Nicobar Islands       2000  Whole Year   \n",
            "4       Andaman and Nicobar Islands       2000  Whole Year   \n",
            "...                             ...        ...         ...   \n",
            "223055                  West Bengal       2014        Zaid   \n",
            "223056                  West Bengal       2014        Zaid   \n",
            "223057                  West Bengal       2014  Whole Year   \n",
            "223058                  West Bengal       2014        Rabi   \n",
            "223059                  West Bengal       2014        Rabi   \n",
            "\n",
            "                       Crop      Area  Production     Rainfall  \n",
            "0                  Arecanut    1254.0      2000.0   302.100000  \n",
            "1       Other Kharif pulses       2.0         1.0   302.100000  \n",
            "2                      Rice     102.0       321.0   302.100000  \n",
            "3                    Banana     176.0       641.0   230.258333  \n",
            "4                 Cashewnut     720.0       165.0   230.258333  \n",
            "...                     ...       ...         ...          ...  \n",
            "223055                 Rice     306.0       801.0  1014.400000  \n",
            "223056              Sesamum     627.0       463.0  1014.400000  \n",
            "223057            Sugarcane     324.0     16250.0   105.108333  \n",
            "223058                 Rice  279151.0    597899.0     4.775000  \n",
            "223059              Sesamum     175.0        88.0     4.775000  \n",
            "\n",
            "[223060 rows x 7 columns]\n"
          ]
        }
      ]
    },
    {
      "cell_type": "code",
      "source": [],
      "metadata": {
        "id": "-Ef0ju2_VMbG"
      },
      "execution_count": 194,
      "outputs": []
    }
  ]
}